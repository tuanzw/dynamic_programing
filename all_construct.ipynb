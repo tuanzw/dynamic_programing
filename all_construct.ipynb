{
 "cells": [
  {
   "cell_type": "markdown",
   "metadata": {},
   "source": [
    "# all_construct"
   ]
  },
  {
   "cell_type": "markdown",
   "metadata": {},
   "source": [
    "<img src=\"./img/all_construct.jpg\" width=700 />"
   ]
  },
  {
   "cell_type": "markdown",
   "metadata": {},
   "source": [
    "## Recursive all_construct"
   ]
  },
  {
   "cell_type": "code",
   "execution_count": 1,
   "metadata": {},
   "outputs": [
    {
     "name": "stdout",
     "output_type": "stream",
     "text": [
      "Wall time: 0 ns\n"
     ]
    },
    {
     "data": {
      "text/plain": [
       "[['purp', 'le'], ['p', 'ur', 'p', 'le']]"
      ]
     },
     "execution_count": 1,
     "metadata": {},
     "output_type": "execute_result"
    }
   ],
   "source": [
    "def all_construct(target, words):\n",
    "    if target == '': return [[]]\n",
    "    \n",
    "    combinations = []\n",
    "    for word in words:\n",
    "        if target.startswith(word):\n",
    "            rest_combination = all_construct(target.lstrip(word), words)\n",
    "            rest_combination = list(map(lambda x: [word, *x], rest_combination))\n",
    "            combinations = [*combinations, *rest_combination]\n",
    "    \n",
    "    return combinations\n",
    "\n",
    "%time all_construct('purple', ['purp', 'p', 'ur', 'le', 'purpl'])"
   ]
  },
  {
   "cell_type": "code",
   "execution_count": 2,
   "metadata": {},
   "outputs": [
    {
     "name": "stdout",
     "output_type": "stream",
     "text": [
      "Wall time: 0 ns\n"
     ]
    },
    {
     "data": {
      "text/plain": [
       "[['ab', 'cd', 'ef'], ['ab', 'c', 'def'], ['abc', 'def'], ['abcd', 'ef']]"
      ]
     },
     "execution_count": 2,
     "metadata": {},
     "output_type": "execute_result"
    }
   ],
   "source": [
    "%time all_construct('abcdef', ['ab', 'abc', 'cd', 'def', 'abcd', 'ef', 'c'])"
   ]
  },
  {
   "cell_type": "markdown",
   "metadata": {},
   "source": [
    "## Memorization recursive all_construct"
   ]
  },
  {
   "cell_type": "code",
   "execution_count": 3,
   "metadata": {},
   "outputs": [
    {
     "name": "stdout",
     "output_type": "stream",
     "text": [
      "Wall time: 0 ns\n"
     ]
    },
    {
     "data": {
      "text/plain": [
       "[['p', 'ur', 'p', 'le'], ['pu', 'r', 'p', 'le'], ['purp', 'le']]"
      ]
     },
     "execution_count": 3,
     "metadata": {},
     "output_type": "execute_result"
    }
   ],
   "source": [
    "def m_all_construct(target, words, memo={}):\n",
    "    if target in memo: return memo[target]\n",
    "    \n",
    "    if target == '': return [[]]\n",
    "    \n",
    "    combinations = []\n",
    "    for word in words:\n",
    "        if target.startswith(word) == True:\n",
    "            rest_combination = m_all_construct(target.lstrip(word), words, memo)\n",
    "            rest_combination = list(map(lambda x: [word, *x], rest_combination))\n",
    "\n",
    "            combinations = [*combinations, *rest_combination]\n",
    "    memo[target] = combinations\n",
    "    return combinations\n",
    "%time m_all_construct('purple', ['p', 'ur', 'le', 'pu', 'r', 'purp'], {})"
   ]
  },
  {
   "cell_type": "code",
   "execution_count": 4,
   "metadata": {},
   "outputs": [
    {
     "name": "stdout",
     "output_type": "stream",
     "text": [
      "Wall time: 0 ns\n"
     ]
    },
    {
     "data": {
      "text/plain": [
       "[['ab', 'cd', 'ef'], ['ab', 'c', 'def'], ['abc', 'def'], ['abcd', 'ef']]"
      ]
     },
     "execution_count": 4,
     "metadata": {},
     "output_type": "execute_result"
    }
   ],
   "source": [
    "%time m_all_construct('abcdef', ['ab', 'abc', 'cd', 'def', 'abcd', 'ef', 'c'], {})"
   ]
  },
  {
   "cell_type": "markdown",
   "metadata": {},
   "source": [
    "## Tabulation all_construct"
   ]
  },
  {
   "cell_type": "markdown",
   "metadata": {},
   "source": [
    "<img src=\"./img/all_construct_t.jpg\" />"
   ]
  },
  {
   "cell_type": "code",
   "execution_count": 5,
   "metadata": {},
   "outputs": [
    {
     "name": "stdout",
     "output_type": "stream",
     "text": [
      "Wall time: 0 ns\n"
     ]
    },
    {
     "data": {
      "text/plain": [
       "[['purp', 'le'], ['p', 'ur', 'p', 'le'], ['pu', 'r', 'p', 'le']]"
      ]
     },
     "execution_count": 5,
     "metadata": {},
     "output_type": "execute_result"
    }
   ],
   "source": [
    "def t_all_construct(target, words):\n",
    "    target_length = len(target)\n",
    "    arr = [[] for i in range(target_length+1)]\n",
    "    arr[0] = [[]]\n",
    "    \n",
    "    for i in range(target_length+1):\n",
    "        for word in words:\n",
    "            if target.startswith(word, i):\n",
    "                next_position = i + len(word)\n",
    "                if next_position <= target_length:\n",
    "                    combinations = list(map(lambda x: [*x, word], arr[i]))\n",
    "                    arr[next_position] = [*arr[next_position], *combinations]\n",
    "#     print(arr)\n",
    "    return arr[target_length]\n",
    "%time t_all_construct('purple', ['p', 'ur', 'le', 'pu', 'r', 'purp'])"
   ]
  },
  {
   "cell_type": "code",
   "execution_count": 6,
   "metadata": {},
   "outputs": [
    {
     "name": "stdout",
     "output_type": "stream",
     "text": [
      "Wall time: 0 ns\n"
     ]
    },
    {
     "data": {
      "text/plain": [
       "[['purp', 'le'], ['p', 'ur', 'p', 'le']]"
      ]
     },
     "execution_count": 6,
     "metadata": {},
     "output_type": "execute_result"
    }
   ],
   "source": [
    "%time t_all_construct('purple', ['purp', 'p', 'ur', 'le', 'purpl'])"
   ]
  }
 ],
 "metadata": {
  "kernelspec": {
   "display_name": "Python 3",
   "language": "python",
   "name": "python3"
  },
  "language_info": {
   "codemirror_mode": {
    "name": "ipython",
    "version": 3
   },
   "file_extension": ".py",
   "mimetype": "text/x-python",
   "name": "python",
   "nbconvert_exporter": "python",
   "pygments_lexer": "ipython3",
   "version": "3.8.2"
  }
 },
 "nbformat": 4,
 "nbformat_minor": 4
}
