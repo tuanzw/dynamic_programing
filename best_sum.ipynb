{
 "cells": [
  {
   "cell_type": "markdown",
   "metadata": {},
   "source": [
    "# best_sum"
   ]
  },
  {
   "cell_type": "code",
   "execution_count": 1,
   "metadata": {},
   "outputs": [
    {
     "data": {
      "text/html": [
       "<img src=\"./img/best_sum.jpg\" />\n"
      ],
      "text/plain": [
       "<IPython.core.display.HTML object>"
      ]
     },
     "metadata": {},
     "output_type": "display_data"
    }
   ],
   "source": [
    "%%html\n",
    "<img src=\"./img/best_sum.jpg\" />"
   ]
  },
  {
   "cell_type": "markdown",
   "metadata": {},
   "source": [
    "## Recursive best_sum"
   ]
  },
  {
   "cell_type": "code",
   "execution_count": 2,
   "metadata": {},
   "outputs": [
    {
     "name": "stdout",
     "output_type": "stream",
     "text": [
      "Wall time: 0 ns\n"
     ]
    },
    {
     "data": {
      "text/plain": [
       "[3, 3]"
      ]
     },
     "execution_count": 2,
     "metadata": {},
     "output_type": "execute_result"
    }
   ],
   "source": [
    "def best_sum(target, numbers):\n",
    "    if target == 0: return []\n",
    "    if target < 0: return None\n",
    "    \n",
    "    shortest_combination = None\n",
    "    \n",
    "    for num in numbers:\n",
    "        remainder_ways = best_sum(target-num, numbers)\n",
    "        if remainder_ways is not None:\n",
    "            remainder_ways.append(num)#child back to parent, add edge parent-child\n",
    "            if shortest_combination is None or len(shortest_combination) > len(remainder_ways):\n",
    "                shortest_combination = remainder_ways\n",
    "    \n",
    "    return shortest_combination\n",
    "\n",
    "%time best_sum(6, [2, 3, 5])"
   ]
  },
  {
   "cell_type": "code",
   "execution_count": 3,
   "metadata": {},
   "outputs": [
    {
     "name": "stdout",
     "output_type": "stream",
     "text": [
      "Wall time: 0 ns\n"
     ]
    },
    {
     "data": {
      "text/plain": [
       "[7]"
      ]
     },
     "execution_count": 3,
     "metadata": {},
     "output_type": "execute_result"
    }
   ],
   "source": [
    "%time best_sum(7, [5, 4, 3, 7])"
   ]
  },
  {
   "cell_type": "code",
   "execution_count": 4,
   "metadata": {},
   "outputs": [
    {
     "name": "stdout",
     "output_type": "stream",
     "text": [
      "Wall time: 2.64 s\n"
     ]
    }
   ],
   "source": [
    "%time best_sum(220, [14, 7])"
   ]
  },
  {
   "cell_type": "markdown",
   "metadata": {},
   "source": [
    "## Memorization recursive best_sum"
   ]
  },
  {
   "cell_type": "code",
   "execution_count": 24,
   "metadata": {},
   "outputs": [
    {
     "name": "stdout",
     "output_type": "stream",
     "text": [
      "Wall time: 0 ns\n"
     ]
    },
    {
     "data": {
      "text/plain": [
       "[7]"
      ]
     },
     "execution_count": 24,
     "metadata": {},
     "output_type": "execute_result"
    }
   ],
   "source": [
    "def m_best_sum(target, numbers, memo={}):\n",
    "    if target in memo: return memo[target]\n",
    "    \n",
    "    if target == 0: return []\n",
    "    if target < 0: return None\n",
    "    \n",
    "    shortest_combination = None\n",
    "    \n",
    "    for num in numbers:\n",
    "        remainder_ways = m_best_sum(target-num, numbers, memo)\n",
    "        if remainder_ways is not None:\n",
    "            remainder_ways.append(num)\n",
    "            if shortest_combination is None or len(shortest_combination) > len(remainder_ways):\n",
    "                shortest_combination = remainder_ways\n",
    "    \n",
    "    memo[target] = shortest_combination\n",
    "    return memo[target]\n",
    "\n",
    "%time m_best_sum(7, [5, 4, 3, 7])"
   ]
  },
  {
   "cell_type": "code",
   "execution_count": 23,
   "metadata": {},
   "outputs": [
    {
     "name": "stdout",
     "output_type": "stream",
     "text": [
      "Wall time: 0 ns\n"
     ]
    },
    {
     "data": {
      "text/plain": [
       "[5, 3]"
      ]
     },
     "execution_count": 23,
     "metadata": {},
     "output_type": "execute_result"
    }
   ],
   "source": [
    "%time m_best_sum(8, [2, 3, 5])"
   ]
  },
  {
   "cell_type": "code",
   "execution_count": 22,
   "metadata": {},
   "outputs": [
    {
     "name": "stdout",
     "output_type": "stream",
     "text": [
      "Wall time: 0 ns\n"
     ]
    }
   ],
   "source": [
    "%time m_best_sum(220, [14, 7], {})"
   ]
  },
  {
   "cell_type": "markdown",
   "metadata": {},
   "source": [
    "## Tabulation best_sum"
   ]
  },
  {
   "cell_type": "markdown",
   "metadata": {},
   "source": [
    "<img src=\"./img/best_sum_t.jpg\" />"
   ]
  },
  {
   "cell_type": "code",
   "execution_count": 2,
   "metadata": {},
   "outputs": [
    {
     "name": "stdout",
     "output_type": "stream",
     "text": [
      "Wall time: 0 ns\n"
     ]
    },
    {
     "data": {
      "text/plain": [
       "[3, 3]"
      ]
     },
     "execution_count": 2,
     "metadata": {},
     "output_type": "execute_result"
    }
   ],
   "source": [
    "def t_best_sum(target, numbers):\n",
    "    arr = [None]*(target + 1)\n",
    "    arr[0] = []\n",
    "    \n",
    "    for i in range(target + 1):\n",
    "        for num in numbers:\n",
    "            if i+num <= target and arr[i] is not None:\n",
    "                combination = arr[i].copy()\n",
    "                combination.append(num)\n",
    "                if arr[i+num] is None or len(arr[i+num]) > len(combination):\n",
    "                    arr[i+num] = combination\n",
    "    \n",
    "#     print(arr)\n",
    "    return arr[target]\n",
    "\n",
    "%time t_best_sum(6, [2, 3])\n",
    "                \n",
    "            "
   ]
  },
  {
   "cell_type": "code",
   "execution_count": 3,
   "metadata": {},
   "outputs": [
    {
     "name": "stdout",
     "output_type": "stream",
     "text": [
      "Wall time: 0 ns\n"
     ]
    }
   ],
   "source": [
    "%time t_best_sum(220, [14, 7])"
   ]
  }
 ],
 "metadata": {
  "kernelspec": {
   "display_name": "Python 3",
   "language": "python",
   "name": "python3"
  },
  "language_info": {
   "codemirror_mode": {
    "name": "ipython",
    "version": 3
   },
   "file_extension": ".py",
   "mimetype": "text/x-python",
   "name": "python",
   "nbconvert_exporter": "python",
   "pygments_lexer": "ipython3",
   "version": "3.8.2"
  }
 },
 "nbformat": 4,
 "nbformat_minor": 4
}
