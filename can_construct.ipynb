{
 "cells": [
  {
   "cell_type": "markdown",
   "metadata": {},
   "source": [
    "# can_construct"
   ]
  },
  {
   "cell_type": "markdown",
   "metadata": {},
   "source": [
    "<img src=\"./img/can_construct.jpg\" />"
   ]
  },
  {
   "cell_type": "markdown",
   "metadata": {},
   "source": [
    "## Recursive can_construct"
   ]
  },
  {
   "cell_type": "code",
   "execution_count": 5,
   "metadata": {},
   "outputs": [
    {
     "name": "stdout",
     "output_type": "stream",
     "text": [
      "Wall time: 0 ns\n"
     ]
    },
    {
     "data": {
      "text/plain": [
       "True"
      ]
     },
     "execution_count": 5,
     "metadata": {},
     "output_type": "execute_result"
    }
   ],
   "source": [
    "def can_construct(target, words):\n",
    "    if target == '': return True\n",
    "    \n",
    "    for word in words:\n",
    "        if target.startswith(word): # word is prefix of target\n",
    "            if can_construct(target.lstrip(word), words) == True:\n",
    "                return True\n",
    "    return False\n",
    "\n",
    "%time can_construct('abcdef', ['ab', 'abc', 'cd', 'def', 'abcd'])"
   ]
  },
  {
   "cell_type": "markdown",
   "metadata": {},
   "source": [
    "## Memorization recursive can_construct"
   ]
  },
  {
   "cell_type": "code",
   "execution_count": 7,
   "metadata": {},
   "outputs": [
    {
     "name": "stdout",
     "output_type": "stream",
     "text": [
      "Wall time: 0 ns\n"
     ]
    },
    {
     "data": {
      "text/plain": [
       "True"
      ]
     },
     "execution_count": 7,
     "metadata": {},
     "output_type": "execute_result"
    }
   ],
   "source": [
    "def m_can_construct(target, words, memo={}):\n",
    "    if target in memo: return memo[target]\n",
    "    \n",
    "    if target == '': return True\n",
    "    \n",
    "    for word in words:\n",
    "        if target.startswith(word): # word is prefix of target\n",
    "            if m_can_construct(target.lstrip(word), words) == True:\n",
    "                memo[target] = True\n",
    "                return True\n",
    "    memo[target] = False\n",
    "    return False\n",
    "\n",
    "%time m_can_construct('abcdef', ['ab', 'abc', 'cd', 'def', 'abcd'], {})"
   ]
  },
  {
   "cell_type": "code",
   "execution_count": 8,
   "metadata": {},
   "outputs": [
    {
     "name": "stdout",
     "output_type": "stream",
     "text": [
      "Wall time: 0 ns\n"
     ]
    },
    {
     "data": {
      "text/plain": [
       "False"
      ]
     },
     "execution_count": 8,
     "metadata": {},
     "output_type": "execute_result"
    }
   ],
   "source": [
    "%time m_can_construct('skateboard', ['bo', 'rd', 'ate', 't', 'ska', 'sk', 'boar'], {})"
   ]
  },
  {
   "cell_type": "markdown",
   "metadata": {},
   "source": [
    "## Tabulation can_construct"
   ]
  },
  {
   "cell_type": "markdown",
   "metadata": {},
   "source": [
    "<img src=\"./img/can_construct_t.jpg\" />"
   ]
  },
  {
   "cell_type": "code",
   "execution_count": 9,
   "metadata": {},
   "outputs": [
    {
     "name": "stdout",
     "output_type": "stream",
     "text": [
      "Wall time: 999 µs\n"
     ]
    },
    {
     "data": {
      "text/plain": [
       "False"
      ]
     },
     "execution_count": 9,
     "metadata": {},
     "output_type": "execute_result"
    }
   ],
   "source": [
    "def t_can_construct(target, words):\n",
    "    target_length = len(target)\n",
    "    arr = [False]*(target_length + 1)\n",
    "    arr[0] = True\n",
    "    \n",
    "    for i in range(target_length + 1):\n",
    "        if arr[i] == True:\n",
    "            for word in words:\n",
    "                if target.startswith(word, i):\n",
    "                    next_position = i+len(word)\n",
    "                    if next_position <= target_length:\n",
    "                        arr[next_position] = arr[i]\n",
    "    \n",
    "    return arr[target_length]\n",
    "\n",
    "%time t_can_construct('skateboard', ['bo', 'rd', 'ate', 't', 'ska', 'sk', 'boar'])"
   ]
  },
  {
   "cell_type": "code",
   "execution_count": 10,
   "metadata": {},
   "outputs": [
    {
     "name": "stdout",
     "output_type": "stream",
     "text": [
      "Wall time: 0 ns\n"
     ]
    },
    {
     "data": {
      "text/plain": [
       "True"
      ]
     },
     "execution_count": 10,
     "metadata": {},
     "output_type": "execute_result"
    }
   ],
   "source": [
    "%time t_can_construct('abcdef', ['ab', 'abc', 'cd', 'def', 'abcd'])"
   ]
  }
 ],
 "metadata": {
  "kernelspec": {
   "display_name": "Python 3",
   "language": "python",
   "name": "python3"
  },
  "language_info": {
   "codemirror_mode": {
    "name": "ipython",
    "version": 3
   },
   "file_extension": ".py",
   "mimetype": "text/x-python",
   "name": "python",
   "nbconvert_exporter": "python",
   "pygments_lexer": "ipython3",
   "version": "3.8.2"
  }
 },
 "nbformat": 4,
 "nbformat_minor": 4
}
