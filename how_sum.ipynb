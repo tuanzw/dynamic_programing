{
 "cells": [
  {
   "cell_type": "markdown",
   "metadata": {},
   "source": [
    "# how_sum"
   ]
  },
  {
   "cell_type": "markdown",
   "metadata": {},
   "source": [
    "<img src=\"./img/how_sum.jpg\" />"
   ]
  },
  {
   "cell_type": "markdown",
   "metadata": {},
   "source": [
    "## Recursive how_sum"
   ]
  },
  {
   "cell_type": "code",
   "execution_count": 5,
   "metadata": {},
   "outputs": [
    {
     "name": "stdout",
     "output_type": "stream",
     "text": [
      "Wall time: 0 ns\n"
     ]
    },
    {
     "data": {
      "text/plain": [
       "[4, 3]"
      ]
     },
     "execution_count": 5,
     "metadata": {},
     "output_type": "execute_result"
    }
   ],
   "source": [
    "def how_sum(target, numbers):\n",
    "    if target == 0: return []\n",
    "    if target < 0: return None\n",
    "    \n",
    "    for num in numbers:\n",
    "        remainder_combination = how_sum(target-num, numbers)\n",
    "        if remainder_combination is not None:\n",
    "            remainder_combination.append(num)\n",
    "            return remainder_combination\n",
    "    return None\n",
    "\n",
    "%time how_sum(7, [5, 3, 4, 7])"
   ]
  },
  {
   "cell_type": "code",
   "execution_count": 8,
   "metadata": {},
   "outputs": [
    {
     "name": "stdout",
     "output_type": "stream",
     "text": [
      "Wall time: 20.1 s\n"
     ]
    }
   ],
   "source": [
    "%time how_sum(250, [14, 7])"
   ]
  },
  {
   "cell_type": "markdown",
   "metadata": {},
   "source": [
    "## Memorization recursive how_sum"
   ]
  },
  {
   "cell_type": "code",
   "execution_count": 10,
   "metadata": {},
   "outputs": [
    {
     "name": "stdout",
     "output_type": "stream",
     "text": [
      "Wall time: 0 ns\n"
     ]
    },
    {
     "data": {
      "text/plain": [
       "[4, 3]"
      ]
     },
     "execution_count": 10,
     "metadata": {},
     "output_type": "execute_result"
    }
   ],
   "source": [
    "def m_how_sum(target, numbers, memo={}):\n",
    "    if target in memo: return memo[target]\n",
    "    \n",
    "    if target == 0: return []\n",
    "    if target < 0: return None\n",
    "    \n",
    "    for num in numbers:\n",
    "        remainder_combination = m_how_sum(target - num, numbers, memo)\n",
    "        if remainder_combination is not None:\n",
    "            remainder_combination.append(num)\n",
    "            memo[target] = remainder_combination\n",
    "            return memo[target]\n",
    "    memo[target] = None\n",
    "    return memo[target]\n",
    "%time m_how_sum(7, [5, 3, 4, 7])"
   ]
  },
  {
   "cell_type": "code",
   "execution_count": 11,
   "metadata": {},
   "outputs": [
    {
     "name": "stdout",
     "output_type": "stream",
     "text": [
      "Wall time: 0 ns\n"
     ]
    }
   ],
   "source": [
    "%time m_how_sum(250, [14, 7])"
   ]
  },
  {
   "cell_type": "markdown",
   "metadata": {},
   "source": [
    "## Tabulation how_sum"
   ]
  },
  {
   "cell_type": "markdown",
   "metadata": {},
   "source": [
    "<img src=\"./img/how_sum_t.jpg\" />"
   ]
  },
  {
   "cell_type": "code",
   "execution_count": 19,
   "metadata": {},
   "outputs": [
    {
     "name": "stdout",
     "output_type": "stream",
     "text": [
      "Wall time: 0 ns\n"
     ]
    },
    {
     "data": {
      "text/plain": [
       "[4, 3]"
      ]
     },
     "execution_count": 19,
     "metadata": {},
     "output_type": "execute_result"
    }
   ],
   "source": [
    "def t_how_sum(target, numbers):\n",
    "    arr = [None]*(target + 1)\n",
    "    arr[0] = []\n",
    "    \n",
    "    for i in range(target + 1):\n",
    "        for num in numbers:\n",
    "            if arr[i] is not None:\n",
    "                if i+num <= target:\n",
    "                    arr[i+num] = arr[i].copy()\n",
    "                    arr[i+num].append(num)\n",
    "    #print(arr)\n",
    "    return arr[target]\n",
    "\n",
    "%time t_how_sum(7, [15, 3, 4])"
   ]
  },
  {
   "cell_type": "code",
   "execution_count": 20,
   "metadata": {},
   "outputs": [
    {
     "name": "stdout",
     "output_type": "stream",
     "text": [
      "Wall time: 997 µs\n"
     ]
    }
   ],
   "source": [
    "%time t_how_sum(250, [14, 7])"
   ]
  }
 ],
 "metadata": {
  "kernelspec": {
   "display_name": "Python 3",
   "language": "python",
   "name": "python3"
  },
  "language_info": {
   "codemirror_mode": {
    "name": "ipython",
    "version": 3
   },
   "file_extension": ".py",
   "mimetype": "text/x-python",
   "name": "python",
   "nbconvert_exporter": "python",
   "pygments_lexer": "ipython3",
   "version": "3.8.2"
  }
 },
 "nbformat": 4,
 "nbformat_minor": 4
}
