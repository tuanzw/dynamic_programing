{
 "cells": [
  {
   "cell_type": "markdown",
   "metadata": {},
   "source": [
    "# count_construct"
   ]
  },
  {
   "cell_type": "markdown",
   "metadata": {},
   "source": [
    "<img src=\"./img/count_construct.jpg\" width=800 />"
   ]
  },
  {
   "cell_type": "markdown",
   "metadata": {},
   "source": [
    "## Recursive count_construct"
   ]
  },
  {
   "cell_type": "code",
   "execution_count": 1,
   "metadata": {},
   "outputs": [
    {
     "name": "stdout",
     "output_type": "stream",
     "text": [
      "Wall time: 0 ns\n"
     ]
    },
    {
     "data": {
      "text/plain": [
       "2"
      ]
     },
     "execution_count": 1,
     "metadata": {},
     "output_type": "execute_result"
    }
   ],
   "source": [
    "def count_construct(target, words):\n",
    "    if target == '': return 1\n",
    "    \n",
    "    total_count = 0\n",
    "    for word in words:\n",
    "        if target.startswith(word): # word is prefix of target\n",
    "            total_count += count_construct(target.lstrip(word), words)\n",
    "            \n",
    "    return total_count\n",
    "\n",
    "%time count_construct('purple', ['purp', 'p', 'ur', 'le', 'purpl'])"
   ]
  },
  {
   "cell_type": "markdown",
   "metadata": {},
   "source": [
    "## Memorization recursive count_construct"
   ]
  },
  {
   "cell_type": "code",
   "execution_count": 3,
   "metadata": {},
   "outputs": [
    {
     "name": "stdout",
     "output_type": "stream",
     "text": [
      "Wall time: 0 ns\n"
     ]
    },
    {
     "data": {
      "text/plain": [
       "2"
      ]
     },
     "execution_count": 3,
     "metadata": {},
     "output_type": "execute_result"
    }
   ],
   "source": [
    "def m_count_construct(target, words, memo={}):\n",
    "    if target in memo: return memo[target]\n",
    "    \n",
    "    if target == '': return 1\n",
    "    \n",
    "    total_count = 0\n",
    "    for word in words:\n",
    "        if target.startswith(word): # word is prefix of target\n",
    "            total_count += m_count_construct(target.lstrip(word), words, memo)\n",
    "    \n",
    "    memo[target] = total_count\n",
    "    return total_count\n",
    "\n",
    "%time m_count_construct('purple', ['purp', 'p', 'ur', 'le', 'purpl'], {})"
   ]
  },
  {
   "cell_type": "code",
   "execution_count": 4,
   "metadata": {},
   "outputs": [
    {
     "name": "stdout",
     "output_type": "stream",
     "text": [
      "Wall time: 0 ns\n"
     ]
    },
    {
     "data": {
      "text/plain": [
       "0"
      ]
     },
     "execution_count": 4,
     "metadata": {},
     "output_type": "execute_result"
    }
   ],
   "source": [
    "%time m_count_construct('eeeeeeeeeef', ['e', 'ee', 'eee', 'eeee', 'eeeee'], {})"
   ]
  },
  {
   "cell_type": "markdown",
   "metadata": {},
   "source": [
    "## Tabulation count_construct"
   ]
  },
  {
   "cell_type": "markdown",
   "metadata": {},
   "source": [
    "<img src=\"./img/count_construct_t.jpg\" />"
   ]
  },
  {
   "cell_type": "code",
   "execution_count": 7,
   "metadata": {},
   "outputs": [
    {
     "name": "stdout",
     "output_type": "stream",
     "text": [
      "Wall time: 0 ns\n"
     ]
    },
    {
     "data": {
      "text/plain": [
       "2"
      ]
     },
     "execution_count": 7,
     "metadata": {},
     "output_type": "execute_result"
    }
   ],
   "source": [
    "def t_count_construct(target, words):\n",
    "    target_length = len(target)\n",
    "    arr = [0]*(target_length + 1)\n",
    "    arr[0] = 1\n",
    "    \n",
    "    for i in range(target_length+1):\n",
    "        if arr[i] > 0:\n",
    "            for word in words:\n",
    "                if target.startswith(word, i):\n",
    "                    next_position = i + len(word)\n",
    "                    if next_position <= target_length:\n",
    "                        arr[next_position] += arr[i]\n",
    "    \n",
    "    return arr[target_length]\n",
    "\n",
    "%time t_count_construct('purple', ['purp', 'p', 'ur', 'le', 'purpl'])"
   ]
  },
  {
   "cell_type": "code",
   "execution_count": 8,
   "metadata": {},
   "outputs": [
    {
     "name": "stdout",
     "output_type": "stream",
     "text": [
      "Wall time: 0 ns\n"
     ]
    },
    {
     "data": {
      "text/plain": [
       "0"
      ]
     },
     "execution_count": 8,
     "metadata": {},
     "output_type": "execute_result"
    }
   ],
   "source": [
    "%time t_count_construct('eeeeeeeeeef', ['e', 'ee', 'eee', 'eeee', 'eeeee'])"
   ]
  }
 ],
 "metadata": {
  "kernelspec": {
   "display_name": "Python 3",
   "language": "python",
   "name": "python3"
  },
  "language_info": {
   "codemirror_mode": {
    "name": "ipython",
    "version": 3
   },
   "file_extension": ".py",
   "mimetype": "text/x-python",
   "name": "python",
   "nbconvert_exporter": "python",
   "pygments_lexer": "ipython3",
   "version": "3.8.2"
  }
 },
 "nbformat": 4,
 "nbformat_minor": 4
}
